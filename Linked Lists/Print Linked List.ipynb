{
 "cells": [
  {
   "cell_type": "code",
   "execution_count": 1,
   "id": "dadbe758",
   "metadata": {},
   "outputs": [],
   "source": [
    "def print_List(self):\n",
    "    temp=self.head\n",
    "    while temp is not None:\n",
    "        print(temp.value)\n",
    "        temp=temp.next"
   ]
  },
  {
   "cell_type": "code",
   "execution_count": null,
   "id": "88f49f78",
   "metadata": {},
   "outputs": [],
   "source": []
  }
 ],
 "metadata": {
  "kernelspec": {
   "display_name": "Python 3 (ipykernel)",
   "language": "python",
   "name": "python3"
  },
  "language_info": {
   "codemirror_mode": {
    "name": "ipython",
    "version": 3
   },
   "file_extension": ".py",
   "mimetype": "text/x-python",
   "name": "python",
   "nbconvert_exporter": "python",
   "pygments_lexer": "ipython3",
   "version": "3.9.7"
  }
 },
 "nbformat": 4,
 "nbformat_minor": 5
}
