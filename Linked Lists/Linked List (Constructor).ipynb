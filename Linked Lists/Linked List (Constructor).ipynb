{
 "cells": [
  {
   "cell_type": "code",
   "execution_count": 1,
   "id": "eecb5ed7",
   "metadata": {},
   "outputs": [],
   "source": [
    "class Node:\n",
    "    def __init__(self,value):\n",
    "        self.value=value\n",
    "        self.next=None\n",
    "class LinkedList:\n",
    "    def __init__(self,value):\n",
    "        new_node=Node(value)\n",
    "        self.head=new_node\n",
    "        self.tail=new_node\n",
    "        self.length=1\n",
    "        \n",
    "my_linked_list = LinkedList(4)        \n",
    "        "
   ]
  },
  {
   "cell_type": "code",
   "execution_count": 2,
   "id": "3465da58",
   "metadata": {},
   "outputs": [
    {
     "name": "stdout",
     "output_type": "stream",
     "text": [
      "Head: 4\n",
      "Tail: 4\n",
      "Length: 1\n"
     ]
    }
   ],
   "source": [
    "print('Head:', my_linked_list.head.value)\n",
    "print('Tail:', my_linked_list.tail.value)\n",
    "print('Length:', my_linked_list.length)"
   ]
  },
  {
   "cell_type": "code",
   "execution_count": null,
   "id": "17dbc1d6",
   "metadata": {},
   "outputs": [],
   "source": []
  }
 ],
 "metadata": {
  "kernelspec": {
   "display_name": "Python 3 (ipykernel)",
   "language": "python",
   "name": "python3"
  },
  "language_info": {
   "codemirror_mode": {
    "name": "ipython",
    "version": 3
   },
   "file_extension": ".py",
   "mimetype": "text/x-python",
   "name": "python",
   "nbconvert_exporter": "python",
   "pygments_lexer": "ipython3",
   "version": "3.9.7"
  }
 },
 "nbformat": 4,
 "nbformat_minor": 5
}
