{
 "cells": [
  {
   "cell_type": "markdown",
   "id": "4bda6037",
   "metadata": {},
   "source": [
    "Problem::\n",
    "Given a string,determine if it is compreised of all unique characters. For example, the string 'abcde' has all unique characters and should return True. The string 'aabcde' contains duplicate characters and should return false"
   ]
  },
  {
   "cell_type": "code",
   "execution_count": 1,
   "id": "ee2cdada",
   "metadata": {},
   "outputs": [],
   "source": [
    "## Solution 1:\n",
    "def unique_char1(s):\n",
    "    if len(set(s))==len(s):\n",
    "        return True\n",
    "    else:\n",
    "        return False   "
   ]
  },
  {
   "cell_type": "code",
   "execution_count": 2,
   "id": "212a00f3",
   "metadata": {},
   "outputs": [
    {
     "data": {
      "text/plain": [
       "False"
      ]
     },
     "execution_count": 2,
     "metadata": {},
     "output_type": "execute_result"
    }
   ],
   "source": [
    "unique_char1(\"aabcde\")"
   ]
  },
  {
   "cell_type": "code",
   "execution_count": 3,
   "id": "064168c7",
   "metadata": {},
   "outputs": [
    {
     "data": {
      "text/plain": [
       "True"
      ]
     },
     "execution_count": 3,
     "metadata": {},
     "output_type": "execute_result"
    }
   ],
   "source": [
    "unique_char1(\"abcd\")"
   ]
  },
  {
   "cell_type": "code",
   "execution_count": 4,
   "id": "2c4ef47d",
   "metadata": {},
   "outputs": [],
   "source": [
    "## Solution 2: (prefered in Interview)\n",
    "def unique_char(s):\n",
    "    chars=set()\n",
    "    \n",
    "    for let in s:\n",
    "        if let in chars:\n",
    "            return False\n",
    "        else:\n",
    "            chars.add(let)\n",
    "    return True        \n"
   ]
  },
  {
   "cell_type": "code",
   "execution_count": 5,
   "id": "d609db9a",
   "metadata": {},
   "outputs": [
    {
     "data": {
      "text/plain": [
       "True"
      ]
     },
     "execution_count": 5,
     "metadata": {},
     "output_type": "execute_result"
    }
   ],
   "source": [
    "unique_char(\"abcd\")"
   ]
  },
  {
   "cell_type": "code",
   "execution_count": 6,
   "id": "75e0df77",
   "metadata": {},
   "outputs": [
    {
     "data": {
      "text/plain": [
       "False"
      ]
     },
     "execution_count": 6,
     "metadata": {},
     "output_type": "execute_result"
    }
   ],
   "source": [
    "unique_char(\"aabcde\")"
   ]
  },
  {
   "cell_type": "code",
   "execution_count": null,
   "id": "3480a396",
   "metadata": {},
   "outputs": [],
   "source": []
  }
 ],
 "metadata": {
  "kernelspec": {
   "display_name": "Python 3 (ipykernel)",
   "language": "python",
   "name": "python3"
  },
  "language_info": {
   "codemirror_mode": {
    "name": "ipython",
    "version": 3
   },
   "file_extension": ".py",
   "mimetype": "text/x-python",
   "name": "python",
   "nbconvert_exporter": "python",
   "pygments_lexer": "ipython3",
   "version": "3.9.7"
  }
 },
 "nbformat": 4,
 "nbformat_minor": 5
}
