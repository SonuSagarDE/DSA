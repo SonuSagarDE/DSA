{
 "cells": [
  {
   "cell_type": "markdown",
   "id": "e23c18a3",
   "metadata": {},
   "source": [
    "Problem::\n",
    "Given a string,determine if it is compreised of all unique characters. For example, the string 'abcde' has all unique characters and should return True. The string 'aabcde' contains duplicate characters and should return false"
   ]
  },
  {
   "cell_type": "code",
   "execution_count": null,
   "id": "5cd71e73",
   "metadata": {},
   "outputs": [],
   "source": [
    "## Solution 1:\n",
    "def unique_char1(s):\n",
    "    \n",
    "    "
   ]
  }
 ],
 "metadata": {
  "kernelspec": {
   "display_name": "Python 3 (ipykernel)",
   "language": "python",
   "name": "python3"
  },
  "language_info": {
   "codemirror_mode": {
    "name": "ipython",
    "version": 3
   },
   "file_extension": ".py",
   "mimetype": "text/x-python",
   "name": "python",
   "nbconvert_exporter": "python",
   "pygments_lexer": "ipython3",
   "version": "3.9.7"
  }
 },
 "nbformat": 4,
 "nbformat_minor": 5
}
