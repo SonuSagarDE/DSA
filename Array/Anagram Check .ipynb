{
 "cells": [
  {
   "cell_type": "code",
   "execution_count": null,
   "id": "6cc7d255",
   "metadata": {},
   "outputs": [],
   "source": [
    "## Anagram: An anagram of a string is another string that contains the same characters,\n",
    "## only the order of characters can be different. For example, “abcd” and “dabc” are an anagram of each other."
   ]
  },
  {
   "cell_type": "code",
   "execution_count": null,
   "id": "88fd84c9",
   "metadata": {},
   "outputs": [],
   "source": [
    "## Problem: Given two strings, check if they are Anagram or not"
   ]
  },
  {
   "cell_type": "code",
   "execution_count": 1,
   "id": "f72cb2a6",
   "metadata": {},
   "outputs": [],
   "source": [
    "## Example: \"public relations\" is an anagram of \"crap built on lies\""
   ]
  },
  {
   "cell_type": "code",
   "execution_count": 8,
   "id": "a345258c",
   "metadata": {},
   "outputs": [],
   "source": [
    "## Solution 1 (Using Sorted Method)\n",
    "def check_Anagram(s1,s2):\n",
    "    s1=s1.replace(' ','').lower()\n",
    "    s2=s2.replace(' ','').lower()\n",
    "    \n",
    "    if sorted(s1)==sorted(s2):\n",
    "        print('strings are anagram')\n",
    "    else:\n",
    "        print(\"Strings are not anagram\")\n"
   ]
  },
  {
   "cell_type": "code",
   "execution_count": 9,
   "id": "598c0b3d",
   "metadata": {},
   "outputs": [
    {
     "name": "stdout",
     "output_type": "stream",
     "text": [
      "Strings are not anagram\n"
     ]
    }
   ],
   "source": [
    "check_Anagram('good','deog')"
   ]
  },
  {
   "cell_type": "code",
   "execution_count": 10,
   "id": "a435239f",
   "metadata": {},
   "outputs": [
    {
     "name": "stdout",
     "output_type": "stream",
     "text": [
      "strings are anagram\n"
     ]
    }
   ],
   "source": [
    "check_Anagram('love','vo el')"
   ]
  },
  {
   "cell_type": "code",
   "execution_count": 11,
   "id": "1b056bb3",
   "metadata": {},
   "outputs": [],
   "source": [
    "## Solution 2 (Prefered in Interview)\n",
    "def check_Anagram2(s1,s2):\n",
    "    s1=s1.replace(' ','').lower()\n",
    "    s2=s2.replace(' ','').lower()\n",
    "    \n",
    "    # Edge check\n",
    "    if len(s1) !=len(s2):\n",
    "        return False\n",
    "    \n",
    "    count={}\n",
    "    \n",
    "    for letter in s1:\n",
    "        if letter in count:\n",
    "            count[letter]+=1\n",
    "        else:\n",
    "            count[letter]=1\n",
    "    \n",
    "    for letter in s2:\n",
    "        if letter in count:\n",
    "            count[letter]+=-1\n",
    "        else:\n",
    "            count[letter]=1\n",
    "            \n",
    "    for k in count:\n",
    "        if count[k]!=0:\n",
    "            return False\n",
    "     \n",
    "    return True \n",
    "            \n",
    "        \n",
    "   \n",
    "                \n",
    "            \n",
    "        \n",
    "        "
   ]
  },
  {
   "cell_type": "code",
   "execution_count": 4,
   "id": "f8abbb6c",
   "metadata": {},
   "outputs": [
    {
     "data": {
      "text/plain": [
       "True"
      ]
     },
     "execution_count": 4,
     "metadata": {},
     "output_type": "execute_result"
    }
   ],
   "source": [
    "check_Anagram2('love','vo el')"
   ]
  },
  {
   "cell_type": "markdown",
   "id": "15cb5992",
   "metadata": {},
   "source": [
    "Test Your Solution"
   ]
  },
  {
   "cell_type": "code",
   "execution_count": 14,
   "id": "951f0fff",
   "metadata": {},
   "outputs": [],
   "source": [
    "\"\"\"\n",
    "RUN THIS CELL TO TEST YOUR SOLUTION\n",
    "\"\"\"\n",
    "from nose.tools import assert_equal\n",
    "\n",
    "class AnagramTest(object):\n",
    "    \n",
    "    def test(self,sol):\n",
    "        assert_equal(sol('go go go','gggooo'),True)\n",
    "        assert_equal(sol('abc','cba'),True)\n",
    "        assert_equal(sol('hi man','hi     man'),True)\n",
    "        assert_equal(sol('aabbcc','aabbc'),False)\n",
    "        assert_equal(sol('123','1 2'),False)\n",
    "        print(\"ALL TEST CASES PASSED\")\n",
    "\n",
    "# Run Tests\n",
    "t = AnagramTest()\n"
   ]
  },
  {
   "cell_type": "code",
   "execution_count": 16,
   "id": "8913083f",
   "metadata": {},
   "outputs": [
    {
     "name": "stdout",
     "output_type": "stream",
     "text": [
      "ALL TEST CASES PASSED\n"
     ]
    }
   ],
   "source": [
    "t.test(check_Anagram2)"
   ]
  },
  {
   "cell_type": "code",
   "execution_count": null,
   "id": "b80c3506",
   "metadata": {},
   "outputs": [],
   "source": []
  }
 ],
 "metadata": {
  "kernelspec": {
   "display_name": "Python 3 (ipykernel)",
   "language": "python",
   "name": "python3"
  },
  "language_info": {
   "codemirror_mode": {
    "name": "ipython",
    "version": 3
   },
   "file_extension": ".py",
   "mimetype": "text/x-python",
   "name": "python",
   "nbconvert_exporter": "python",
   "pygments_lexer": "ipython3",
   "version": "3.9.7"
  }
 },
 "nbformat": 4,
 "nbformat_minor": 5
}
