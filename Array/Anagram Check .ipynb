{
 "cells": [
  {
   "cell_type": "code",
   "execution_count": null,
   "id": "6cc7d255",
   "metadata": {},
   "outputs": [],
   "source": [
    "## Anagram: An anagram of a string is another string that contains the same characters,\n",
    "## only the order of characters can be different. For example, “abcd” and “dabc” are an anagram of each other."
   ]
  },
  {
   "cell_type": "code",
   "execution_count": null,
   "id": "88fd84c9",
   "metadata": {},
   "outputs": [],
   "source": [
    "## Problem: Given two strings, check if they are Anagram or not"
   ]
  },
  {
   "cell_type": "code",
   "execution_count": 1,
   "id": "f72cb2a6",
   "metadata": {},
   "outputs": [],
   "source": [
    "## Example: \"public relations\" is an anagram of \"crap built on lies\""
   ]
  },
  {
   "cell_type": "code",
   "execution_count": 2,
   "id": "5f37be2a",
   "metadata": {},
   "outputs": [],
   "source": [
    "## Solution 1 (Using Sorted Method)\n",
    "def check_Anagram(s1,s2):\n",
    "    s1=s1.replace(' ','').lower()\n",
    "    s2=s2.replace(' ','').lower()\n",
    "    \n",
    "    if sorted(s1)==sorted(s2):\n",
    "        print('strings are anagram')\n",
    "    else:\n",
    "        print(\"Strings are not anagram\")\n"
   ]
  },
  {
   "cell_type": "code",
   "execution_count": 5,
   "id": "c1670192",
   "metadata": {},
   "outputs": [
    {
     "name": "stdout",
     "output_type": "stream",
     "text": [
      "Strings are not anagram\n"
     ]
    }
   ],
   "source": [
    "check_Anagram('good','deog')"
   ]
  },
  {
   "cell_type": "code",
   "execution_count": 6,
   "id": "9957189a",
   "metadata": {},
   "outputs": [
    {
     "name": "stdout",
     "output_type": "stream",
     "text": [
      "strings are anagram\n"
     ]
    }
   ],
   "source": [
    "check_Anagram('love','voel')"
   ]
  },
  {
   "cell_type": "code",
   "execution_count": null,
   "id": "60408978",
   "metadata": {},
   "outputs": [],
   "source": []
  }
 ],
 "metadata": {
  "kernelspec": {
   "display_name": "Python 3 (ipykernel)",
   "language": "python",
   "name": "python3"
  },
  "language_info": {
   "codemirror_mode": {
    "name": "ipython",
    "version": 3
   },
   "file_extension": ".py",
   "mimetype": "text/x-python",
   "name": "python",
   "nbconvert_exporter": "python",
   "pygments_lexer": "ipython3",
   "version": "3.9.7"
  }
 },
 "nbformat": 4,
 "nbformat_minor": 5
}
