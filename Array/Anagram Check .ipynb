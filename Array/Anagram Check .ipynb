{
 "cells": [
  {
   "cell_type": "code",
   "execution_count": null,
   "id": "6cc7d255",
   "metadata": {},
   "outputs": [],
   "source": [
    "## Anagram: An anagram of a string is another string that contains the same characters,\n",
    "## only the order of characters can be different. For example, “abcd” and “dabc” are an anagram of each other."
   ]
  },
  {
   "cell_type": "code",
   "execution_count": null,
   "id": "88fd84c9",
   "metadata": {},
   "outputs": [],
   "source": [
    "## Problem: Given two strings, check if they are Anagram or not"
   ]
  },
  {
   "cell_type": "code",
   "execution_count": null,
   "id": "f72cb2a6",
   "metadata": {},
   "outputs": [],
   "source": []
  }
 ],
 "metadata": {
  "kernelspec": {
   "display_name": "Python 3 (ipykernel)",
   "language": "python",
   "name": "python3"
  },
  "language_info": {
   "codemirror_mode": {
    "name": "ipython",
    "version": 3
   },
   "file_extension": ".py",
   "mimetype": "text/x-python",
   "name": "python",
   "nbconvert_exporter": "python",
   "pygments_lexer": "ipython3",
   "version": "3.9.7"
  }
 },
 "nbformat": 4,
 "nbformat_minor": 5
}
