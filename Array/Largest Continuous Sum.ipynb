{
 "cells": [
  {
   "cell_type": "markdown",
   "id": "eec5d75e",
   "metadata": {},
   "source": [
    "Problem\n",
    "Given an array of integers (positive and negative) find the largest continuous sum.\n",
    "large_cont_sum([1,2,-1,3,4,10,10,-10,-1])\n",
    "29"
   ]
  },
  {
   "cell_type": "markdown",
   "id": "dad33c5e",
   "metadata": {},
   "source": [
    "If the array is all positive, then the result is simply the sum of all numbers. The negative numbers in the array will cause us to need to begin checking sequences.\n",
    "\n",
    "The algorithm is, we start summing up the numbers and store in a current sum variable. After adding each element, we check whether the current sum is larger than maximum sum encountered so far. If it is, we update the maximum sum. As long as the current sum is positive, we keep adding the numbers. When the current sum becomes negative, we start with a new current sum. Because a negative current sum will only decrease the sum of a future sequence. Note that we don’t reset the current sum to 0 because the array can contain all negative integers. Then the result would be the largest negative number."
   ]
  },
  {
   "cell_type": "code",
   "execution_count": 2,
   "id": "a76b3e65",
   "metadata": {},
   "outputs": [],
   "source": [
    "def large_count_sum(arr):\n",
    "    # check if the len of array is 0\n",
    "    if len(arr)==0:\n",
    "        return 0\n",
    "     # Start the max and current sum at the first element\n",
    "    max_sum=current_sum=arr[0]\n",
    "    # For every elements in array\n",
    "    for num in arr[1:]:\n",
    "        # set the current sum maxium of two \n",
    "        current_sum=max(current_sum+num,num)\n",
    "        # Set the maximum of current_sum and max_sum\n",
    "        max_sum=max(current_sum,max_sum)\n",
    "    return max_sum   \n",
    "            \n",
    "        "
   ]
  },
  {
   "cell_type": "code",
   "execution_count": 4,
   "id": "6de7f499",
   "metadata": {},
   "outputs": [
    {
     "data": {
      "text/plain": [
       "29"
      ]
     },
     "execution_count": 4,
     "metadata": {},
     "output_type": "execute_result"
    }
   ],
   "source": [
    "large_count_sum([1,2,-1,3,4,10,10,-10,-1])"
   ]
  },
  {
   "cell_type": "code",
   "execution_count": 12,
   "id": "8c6df844",
   "metadata": {},
   "outputs": [
    {
     "data": {
      "text/plain": [
       "39"
      ]
     },
     "execution_count": 12,
     "metadata": {},
     "output_type": "execute_result"
    }
   ],
   "source": [
    "large_count_sum([37,0,-1,-17,12,7,1])"
   ]
  },
  {
   "cell_type": "code",
   "execution_count": null,
   "id": "9c9153b2",
   "metadata": {},
   "outputs": [],
   "source": []
  }
 ],
 "metadata": {
  "kernelspec": {
   "display_name": "Python 3 (ipykernel)",
   "language": "python",
   "name": "python3"
  },
  "language_info": {
   "codemirror_mode": {
    "name": "ipython",
    "version": 3
   },
   "file_extension": ".py",
   "mimetype": "text/x-python",
   "name": "python",
   "nbconvert_exporter": "python",
   "pygments_lexer": "ipython3",
   "version": "3.9.7"
  }
 },
 "nbformat": 4,
 "nbformat_minor": 5
}
