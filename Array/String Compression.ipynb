{
 "cells": [
  {
   "cell_type": "code",
   "execution_count": 4,
   "id": "6132def6",
   "metadata": {},
   "outputs": [],
   "source": [
    "def String_Comp(s):\n",
    "    \n",
    "    r= \" \"\n",
    "    l=len(s)\n",
    "    \n",
    "    if l==0:\n",
    "        return \"\"\n",
    "    if l==1:\n",
    "        return s+\"1\"\n",
    "    \n",
    "    last=s[0]\n",
    "    cnt=1\n",
    "    i=1\n",
    "    \n",
    "    while i<l:\n",
    "        if s[i]==s[i-1]:\n",
    "            cnt+=1\n",
    "        else:\n",
    "            r=r+s[i-1]+str(cnt)\n",
    "            cnt=1\n",
    "        i+=1\n",
    "    \n",
    "    r=r+s[i-1]+str(cnt)\n",
    "    return r    \n",
    "\n",
    "    "
   ]
  },
  {
   "cell_type": "code",
   "execution_count": 5,
   "id": "1b6a2f0a",
   "metadata": {},
   "outputs": [
    {
     "data": {
      "text/plain": [
       "' A3B4C4'"
      ]
     },
     "execution_count": 5,
     "metadata": {},
     "output_type": "execute_result"
    }
   ],
   "source": [
    "String_Comp(\"AAABBBBCCCC\")"
   ]
  },
  {
   "cell_type": "code",
   "execution_count": null,
   "id": "c3a5ed2b",
   "metadata": {},
   "outputs": [],
   "source": []
  }
 ],
 "metadata": {
  "kernelspec": {
   "display_name": "Python 3 (ipykernel)",
   "language": "python",
   "name": "python3"
  },
  "language_info": {
   "codemirror_mode": {
    "name": "ipython",
    "version": 3
   },
   "file_extension": ".py",
   "mimetype": "text/x-python",
   "name": "python",
   "nbconvert_exporter": "python",
   "pygments_lexer": "ipython3",
   "version": "3.9.7"
  }
 },
 "nbformat": 4,
 "nbformat_minor": 5
}
