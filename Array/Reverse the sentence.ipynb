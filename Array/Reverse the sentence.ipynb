{
 "cells": [
  {
   "cell_type": "markdown",
   "id": "e2deb4df",
   "metadata": {},
   "source": [
    "Given a string of words, reverse all the words. For example:\n",
    "\n",
    "Input:'This is the best'\n",
    "Output:'best the is This'\n",
    "\n",
    "Note: Remove all the trailing spaces"
   ]
  },
  {
   "cell_type": "code",
   "execution_count": 1,
   "id": "b263715d",
   "metadata": {},
   "outputs": [],
   "source": [
    "## Solution 1: Using Split and reversed\n",
    "def rev_word1(s):\n",
    "    return \" \".join(reversed(s.split()))"
   ]
  },
  {
   "cell_type": "code",
   "execution_count": 2,
   "id": "5e6b6606",
   "metadata": {},
   "outputs": [
    {
     "data": {
      "text/plain": [
       "'best the is his'"
      ]
     },
     "execution_count": 2,
     "metadata": {},
     "output_type": "execute_result"
    }
   ],
   "source": [
    "rev_word1('his is the best')"
   ]
  },
  {
   "cell_type": "code",
   "execution_count": null,
   "id": "026813e1",
   "metadata": {},
   "outputs": [],
   "source": []
  }
 ],
 "metadata": {
  "kernelspec": {
   "display_name": "Python 3 (ipykernel)",
   "language": "python",
   "name": "python3"
  },
  "language_info": {
   "codemirror_mode": {
    "name": "ipython",
    "version": 3
   },
   "file_extension": ".py",
   "mimetype": "text/x-python",
   "name": "python",
   "nbconvert_exporter": "python",
   "pygments_lexer": "ipython3",
   "version": "3.9.7"
  }
 },
 "nbformat": 4,
 "nbformat_minor": 5
}
