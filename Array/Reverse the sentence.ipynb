{
 "cells": [
  {
   "cell_type": "markdown",
   "id": "725564f7",
   "metadata": {},
   "source": [
    "Given a string of words, reverse all the words. For example:\n",
    "\n",
    "Input:'This is the best'\n",
    "Output:'best the is This'\n",
    "\n",
    "Note: Remove all the trailing spaces"
   ]
  },
  {
   "cell_type": "code",
   "execution_count": 1,
   "id": "f0f2df8e",
   "metadata": {},
   "outputs": [],
   "source": [
    "## Solution 1: Using Split and reversed\n",
    "def rev_word1(s):\n",
    "    return \" \".join(reversed(s.split()))"
   ]
  },
  {
   "cell_type": "code",
   "execution_count": 2,
   "id": "c9ceed06",
   "metadata": {},
   "outputs": [
    {
     "data": {
      "text/plain": [
       "'best the is his'"
      ]
     },
     "execution_count": 2,
     "metadata": {},
     "output_type": "execute_result"
    }
   ],
   "source": [
    "rev_word1('his is the best')"
   ]
  },
  {
   "cell_type": "code",
   "execution_count": 3,
   "id": "1de70dea",
   "metadata": {},
   "outputs": [],
   "source": [
    "## Soution 2: Using Split and slice\n",
    "def rev_word2(s):\n",
    "    return \" \".join(s.split()[::1])"
   ]
  },
  {
   "cell_type": "code",
   "execution_count": 4,
   "id": "4f24b6f8",
   "metadata": {},
   "outputs": [
    {
     "data": {
      "text/plain": [
       "'best the is his'"
      ]
     },
     "execution_count": 4,
     "metadata": {},
     "output_type": "execute_result"
    }
   ],
   "source": [
    "rev_word1('his is the best')"
   ]
  },
  {
   "cell_type": "code",
   "execution_count": null,
   "id": "3945ee39",
   "metadata": {},
   "outputs": [],
   "source": []
  }
 ],
 "metadata": {
  "kernelspec": {
   "display_name": "Python 3 (ipykernel)",
   "language": "python",
   "name": "python3"
  },
  "language_info": {
   "codemirror_mode": {
    "name": "ipython",
    "version": 3
   },
   "file_extension": ".py",
   "mimetype": "text/x-python",
   "name": "python",
   "nbconvert_exporter": "python",
   "pygments_lexer": "ipython3",
   "version": "3.9.7"
  }
 },
 "nbformat": 4,
 "nbformat_minor": 5
}
